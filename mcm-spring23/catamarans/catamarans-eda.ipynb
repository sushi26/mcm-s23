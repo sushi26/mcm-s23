{
 "cells": [
  {
   "cell_type": "code",
   "execution_count": 3,
   "metadata": {},
   "outputs": [
    {
     "data": {
      "text/html": [
       "<div>\n",
       "<style scoped>\n",
       "    .dataframe tbody tr th:only-of-type {\n",
       "        vertical-align: middle;\n",
       "    }\n",
       "\n",
       "    .dataframe tbody tr th {\n",
       "        vertical-align: top;\n",
       "    }\n",
       "\n",
       "    .dataframe thead th {\n",
       "        text-align: right;\n",
       "    }\n",
       "</style>\n",
       "<table border=\"1\" class=\"dataframe\">\n",
       "  <thead>\n",
       "    <tr style=\"text-align: right;\">\n",
       "      <th></th>\n",
       "      <th>Make</th>\n",
       "      <th>Variant</th>\n",
       "      <th>Length</th>\n",
       "      <th>Geo</th>\n",
       "      <th>Origin</th>\n",
       "      <th>Price</th>\n",
       "      <th>Year</th>\n",
       "    </tr>\n",
       "  </thead>\n",
       "  <tbody>\n",
       "    <tr>\n",
       "      <th>0</th>\n",
       "      <td>Lagoon</td>\n",
       "      <td>380</td>\n",
       "      <td>38</td>\n",
       "      <td>Caribbean</td>\n",
       "      <td>Martinique</td>\n",
       "      <td>204921</td>\n",
       "      <td>2005</td>\n",
       "    </tr>\n",
       "    <tr>\n",
       "      <th>1</th>\n",
       "      <td>Lagoon</td>\n",
       "      <td>380</td>\n",
       "      <td>38</td>\n",
       "      <td>Caribbean</td>\n",
       "      <td>Guadeloupe</td>\n",
       "      <td>200071</td>\n",
       "      <td>2005</td>\n",
       "    </tr>\n",
       "    <tr>\n",
       "      <th>2</th>\n",
       "      <td>Lagoon</td>\n",
       "      <td>380</td>\n",
       "      <td>38</td>\n",
       "      <td>USA</td>\n",
       "      <td>Florida</td>\n",
       "      <td>219000</td>\n",
       "      <td>2005</td>\n",
       "    </tr>\n",
       "    <tr>\n",
       "      <th>3</th>\n",
       "      <td>Fountaine Pajot</td>\n",
       "      <td>Lavezzi 40</td>\n",
       "      <td>39</td>\n",
       "      <td>Caribbean</td>\n",
       "      <td>Mexico</td>\n",
       "      <td>210000</td>\n",
       "      <td>2005</td>\n",
       "    </tr>\n",
       "    <tr>\n",
       "      <th>4</th>\n",
       "      <td>Leopard</td>\n",
       "      <td>40</td>\n",
       "      <td>39</td>\n",
       "      <td>Caribbean</td>\n",
       "      <td>Panama</td>\n",
       "      <td>200000</td>\n",
       "      <td>2005</td>\n",
       "    </tr>\n",
       "  </tbody>\n",
       "</table>\n",
       "</div>"
      ],
      "text/plain": [
       "              Make     Variant  Length        Geo      Origin   Price  Year\n",
       "0           Lagoon         380      38  Caribbean  Martinique  204921  2005\n",
       "1           Lagoon         380      38  Caribbean  Guadeloupe  200071  2005\n",
       "2           Lagoon         380      38        USA     Florida  219000  2005\n",
       "3  Fountaine Pajot  Lavezzi 40      39  Caribbean      Mexico  210000  2005\n",
       "4          Leopard          40      39  Caribbean      Panama  200000  2005"
      ]
     },
     "execution_count": 3,
     "metadata": {},
     "output_type": "execute_result"
    }
   ],
   "source": [
    "import pandas as pd\n",
    "import numpy as np\n",
    "\n",
    "df = pd.read_csv(\"catamarans.csv\")\n",
    "df.dropna(inplace=True)\n",
    "df = df.rename(columns = {\"Length \\n(ft)\":\"Length\", \"Geographic Region\":\"Geo\", \"Country/Region/State \":\"Origin\", \"Listing Price (USD)\":\"Price\"})\n",
    "df['Price'] = df['Price'].str.replace(',', '', regex=True)\n",
    "df['Price'] = df['Price'].str.replace('$', '', regex=True)\n",
    "df['Price'] = df['Price'].astype(int)\n",
    "df['Length'] = df['Length'].astype(int)\n",
    "df['Year'] = df['Year'].astype(int)\n",
    "df.head()"
   ]
  },
  {
   "cell_type": "code",
   "execution_count": 4,
   "metadata": {},
   "outputs": [],
   "source": [
    "noise_std = 0.05\n",
    "df['Price'] = df['Price'].to_numpy(dtype=int) + np.random.normal(scale=noise_std*df['Price'].to_numpy(dtype=int), size=df.shape[0])\n",
    "df['Year'] = df['Year'].to_numpy(dtype=int) + np.random.normal(scale=noise_std * (2023-df['Year'].to_numpy(dtype=int)), size=df.shape[0])\n",
    "df['Length'] = df['Length'].to_numpy(dtype=int) + np.random.normal(scale=noise_std*df['Length'].to_numpy(dtype=int), size=df.shape[0])\n",
    "df['Price'] = df['Price'].astype(int)\n",
    "df['Length'] = df['Length'].astype(int)\n",
    "df['Year'] = df['Year'].astype(int)\n",
    "df.to_csv('augmented_data.csv', index=False)"
   ]
  },
  {
   "cell_type": "code",
   "execution_count": 5,
   "metadata": {},
   "outputs": [],
   "source": [
    "df_augmented = df.copy()\n",
    "merged_df = pd.concat([df, df_augmented], axis=0)\n",
    "groups = merged_df.groupby(['Make'])\n",
    "len(groups)\n",
    "for name, group in groups:\n",
    "    filename = name + '.csv'\n",
    "    group.to_csv(filename, index=False)\n",
    "\n",
    "\n",
    "\n",
    "# merged_df.to_csv('merged_data_sailboat.csv', index=False)\n"
   ]
  },
  {
   "cell_type": "code",
   "execution_count": 6,
   "metadata": {},
   "outputs": [
    {
     "data": {
      "text/plain": [
       "Make           Year  Variant            \n",
       "Alliaura       2008  Feeling 39 DI          232332.0\n",
       "               2012  Feeling 39 DI          222013.0\n",
       "Antares        2009  44i                    503810.0\n",
       "               2010  44i                    511597.0\n",
       "               2012  44i                    758932.0\n",
       "                                              ...   \n",
       "Voyage Yachts  2007  500                    407538.0\n",
       "               2008  500                    528778.0\n",
       "               2010  500 Owner's Version    624744.0\n",
       "               2011  Voyage 520 DC          685955.0\n",
       "               2015  Voyage 480             598890.0\n",
       "Name: Price, Length: 393, dtype: float64"
      ]
     },
     "execution_count": 6,
     "metadata": {},
     "output_type": "execute_result"
    }
   ],
   "source": [
    "merged_df.groupby(['Make','Year','Variant'])['Price'].mean()"
   ]
  },
  {
   "cell_type": "code",
   "execution_count": null,
   "metadata": {},
   "outputs": [],
   "source": []
  }
 ],
 "metadata": {
  "kernelspec": {
   "display_name": "Python 3",
   "language": "python",
   "name": "python3"
  },
  "language_info": {
   "codemirror_mode": {
    "name": "ipython",
    "version": 3
   },
   "file_extension": ".py",
   "mimetype": "text/x-python",
   "name": "python",
   "nbconvert_exporter": "python",
   "pygments_lexer": "ipython3",
   "version": "3.9.13"
  },
  "orig_nbformat": 4
 },
 "nbformat": 4,
 "nbformat_minor": 2
}
