{
 "cells": [
  {
   "cell_type": "code",
   "execution_count": 1,
   "id": "d10400e9",
   "metadata": {},
   "outputs": [],
   "source": [
    "import pandas as pd\n",
    "import numpy as np"
   ]
  },
  {
   "cell_type": "code",
   "execution_count": 9,
   "id": "f40caacb",
   "metadata": {},
   "outputs": [
    {
     "data": {
      "text/html": [
       "<div>\n",
       "<style scoped>\n",
       "    .dataframe tbody tr th:only-of-type {\n",
       "        vertical-align: middle;\n",
       "    }\n",
       "\n",
       "    .dataframe tbody tr th {\n",
       "        vertical-align: top;\n",
       "    }\n",
       "\n",
       "    .dataframe thead th {\n",
       "        text-align: right;\n",
       "    }\n",
       "</style>\n",
       "<table border=\"1\" class=\"dataframe\">\n",
       "  <thead>\n",
       "    <tr style=\"text-align: right;\">\n",
       "      <th></th>\n",
       "      <th>Make</th>\n",
       "      <th>Variant</th>\n",
       "      <th>Length</th>\n",
       "      <th>Geo</th>\n",
       "      <th>Origin</th>\n",
       "      <th>Price</th>\n",
       "      <th>Year</th>\n",
       "    </tr>\n",
       "  </thead>\n",
       "  <tbody>\n",
       "    <tr>\n",
       "      <th>0</th>\n",
       "      <td>Alubat</td>\n",
       "      <td>Ovni 395</td>\n",
       "      <td>41</td>\n",
       "      <td>Europe</td>\n",
       "      <td>France</td>\n",
       "      <td>267233</td>\n",
       "      <td>2005</td>\n",
       "    </tr>\n",
       "    <tr>\n",
       "      <th>1</th>\n",
       "      <td>Bavaria</td>\n",
       "      <td>38 Cruiser</td>\n",
       "      <td>38</td>\n",
       "      <td>Europe</td>\n",
       "      <td>Croatia</td>\n",
       "      <td>75178</td>\n",
       "      <td>2005</td>\n",
       "    </tr>\n",
       "    <tr>\n",
       "      <th>2</th>\n",
       "      <td>Bavaria</td>\n",
       "      <td>38 Cruiser</td>\n",
       "      <td>38</td>\n",
       "      <td>Europe</td>\n",
       "      <td>Croatia</td>\n",
       "      <td>66825</td>\n",
       "      <td>2005</td>\n",
       "    </tr>\n",
       "    <tr>\n",
       "      <th>3</th>\n",
       "      <td>Bavaria</td>\n",
       "      <td>38 Cruiser</td>\n",
       "      <td>38</td>\n",
       "      <td>Europe</td>\n",
       "      <td>Croatia</td>\n",
       "      <td>54661</td>\n",
       "      <td>2005</td>\n",
       "    </tr>\n",
       "    <tr>\n",
       "      <th>4</th>\n",
       "      <td>Bavaria</td>\n",
       "      <td>38 Cruiser</td>\n",
       "      <td>38</td>\n",
       "      <td>Europe</td>\n",
       "      <td>Croatia</td>\n",
       "      <td>53447</td>\n",
       "      <td>2005</td>\n",
       "    </tr>\n",
       "  </tbody>\n",
       "</table>\n",
       "</div>"
      ],
      "text/plain": [
       "      Make      Variant  Length     Geo   Origin   Price  Year\n",
       "0   Alubat     Ovni 395      41  Europe   France  267233  2005\n",
       "1  Bavaria   38 Cruiser      38  Europe  Croatia   75178  2005\n",
       "2  Bavaria   38 Cruiser      38  Europe  Croatia   66825  2005\n",
       "3  Bavaria   38 Cruiser      38  Europe  Croatia   54661  2005\n",
       "4  Bavaria  38 Cruiser       38  Europe  Croatia   53447  2005"
      ]
     },
     "execution_count": 9,
     "metadata": {},
     "output_type": "execute_result"
    }
   ],
   "source": [
    "df = pd.read_csv(\"monohulled-sailboats.csv\")\n",
    "df.dropna(inplace=True)\n",
    "df = df.rename(columns = {\"Length \\n(ft)\":\"Length\", \"Geographic Region\":\"Geo\", \"Country/Region/State \":\"Origin\", \"Listing Price (USD)\":\"Price\"})\n",
    "df['Price'] = df['Price'].str.replace(',', '', regex=True)\n",
    "df['Price'] = df['Price'].str.replace('$', '', regex=True)\n",
    "df['Price'] = df['Price'].astype(int)\n",
    "df['Length'] = df['Length'].astype(int)\n",
    "df['Year'] = df['Year'].astype(int)\n",
    "df.head()"
   ]
  },
  {
   "cell_type": "code",
   "execution_count": 50,
   "id": "b520cc6e",
   "metadata": {},
   "outputs": [],
   "source": [
    "noise_std = 0.05\n",
    "df['Price'] = df['Price'].to_numpy(dtype=int) + np.random.normal(scale=noise_std*df['Price'].to_numpy(dtype=int), size=df.shape[0])\n",
    "df['Year'] = df['Year'].to_numpy(dtype=int) + np.random.normal(scale=noise_std * (2023-df['Year'].to_numpy(dtype=int)), size=df.shape[0])\n",
    "df['Length'] = df['Length'].to_numpy(dtype=int) + np.random.normal(scale=noise_std*df['Length'].to_numpy(dtype=int), size=df.shape[0])\n",
    "df['Price'] = df['Price'].astype(int)\n",
    "df['Length'] = df['Length'].astype(int)\n",
    "df['Year'] = df['Year'].astype(int)\n",
    "df.to_csv('augmented_data.csv', index=False)"
   ]
  },
  {
   "cell_type": "code",
   "execution_count": 52,
   "id": "de0585bd",
   "metadata": {},
   "outputs": [
    {
     "name": "stdout",
     "output_type": "stream",
     "text": [
      "4686\n"
     ]
    }
   ],
   "source": [
    "df_augmented = df.copy()\n",
    "merged_df = pd.concat([df, df_augmented], axis=0)\n",
    "merged_df.head()\n",
    "merged_df.to_csv('augmented_data.csv')\n"
   ]
  },
  {
   "cell_type": "code",
   "execution_count": null,
   "id": "156002ec",
   "metadata": {},
   "outputs": [],
   "source": []
  },
  {
   "cell_type": "code",
   "execution_count": null,
   "id": "e3aa3621",
   "metadata": {},
   "outputs": [],
   "source": []
  },
  {
   "cell_type": "code",
   "execution_count": null,
   "id": "1dbb1388",
   "metadata": {},
   "outputs": [],
   "source": []
  }
 ],
 "metadata": {
  "kernelspec": {
   "display_name": "Python 3 (ipykernel)",
   "language": "python",
   "name": "python3"
  },
  "language_info": {
   "codemirror_mode": {
    "name": "ipython",
    "version": 3
   },
   "file_extension": ".py",
   "mimetype": "text/x-python",
   "name": "python",
   "nbconvert_exporter": "python",
   "pygments_lexer": "ipython3",
   "version": "3.9.13"
  }
 },
 "nbformat": 4,
 "nbformat_minor": 5
}
